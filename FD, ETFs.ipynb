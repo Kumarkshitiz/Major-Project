{
 "cells": [
  {
   "cell_type": "code",
   "execution_count": 2,
   "metadata": {},
   "outputs": [],
   "source": [
    "import pandas as pd\n",
    "import numpy as np"
   ]
  },
  {
   "cell_type": "markdown",
   "metadata": {},
   "source": [
    "For FDS"
   ]
  },
  {
   "cell_type": "code",
   "execution_count": 2,
   "metadata": {},
   "outputs": [],
   "source": [
    "# FD Data\n",
    "fd_data = {\n",
    "    \"Name\": [\"Bajaj Finance Ltd.\", \"SBI Bank\", \"ICICI Bank\", \"Axis Bank\", \"HDFC Bank\", \n",
    "             \"Bank of Baroda\", \"IDFC Bank\", \"Kotak Mahindra Bank\", \"Canara Bank\", \n",
    "             \"Yes Bank\", \"IndusInd Bank\", \"Punjab National Bank\", \"IDBI Bank\", \n",
    "             \"Union Bank\", \"Citibank\", \"RBL Bank\", \"Indian Bank\"],\n",
    "    \"Type\": [\"NBFC\", \"Bank\", \"Bank\", \"Bank\", \"Bank\", \"Bank\", \"Bank\", \"Bank\", \"Bank\", \n",
    "             \"Bank\", \"Bank\", \"Bank\", \"Bank\", \"Bank\", \"Bank\", \"Bank\", \"Bank\"],\n",
    "    \"Normal Rate\": [8.4, 7.1, 7.25, 7.25, 7.4, 7.15, 7.75, 7.4, 7.25, 7.75, \n",
    "                    7.75, 7.25, 7.0, 7.3, 7.2, 8.1, 7.25],\n",
    "    \"Senior Citizen Rate\": [8.65, 7.6, 7.8, 7.75, 7.9, 7.65, 8.25, 7.9, 7.75, 8.25,\n",
    "                            8.25, 7.75, 7.5, 7.8, 7.85, 8.6, 7.75]\n",
    "}\n",
    "\n",
    "# Convert to DataFrame\n",
    "df_fd = pd.DataFrame(fd_data)\n"
   ]
  },
  {
   "cell_type": "code",
   "execution_count": 5,
   "metadata": {},
   "outputs": [],
   "source": [
    "def select_top_fds(age, risk_profile, df):\n",
    "    # Determine which rate to use based on age\n",
    "    if age >= 60:\n",
    "        rate_column = \"Senior Citizen Rate\"\n",
    "    else:\n",
    "        rate_column = \"Normal Rate\"\n",
    "    \n",
    "    # Sort the data by the selected rate column in descending order\n",
    "    sorted_fds = df.sort_values(by=rate_column, ascending=False)\n",
    "    \n",
    "    # Select based on risk profile\n",
    "    if risk_profile == \"low\":\n",
    "        top_fds = sorted_fds.head(3)  # Low risk: top 3 FDs\n",
    "    elif risk_profile == \"moderate\":\n",
    "        top_fds = sorted_fds.head(2)  # Moderate risk: top 2 FDs\n",
    "    elif risk_profile == \"high\":\n",
    "        top_fds = sorted_fds.head(1)  # High risk: top 1 FD\n",
    "\n",
    "    return top_fds\n"
   ]
  },
  {
   "cell_type": "code",
   "execution_count": 8,
   "metadata": {},
   "outputs": [],
   "source": [
    "\n",
    "# # Example \n",
    "# # Select top FDs for a user aged 65 with low-risk profile\n",
    "# top_fds_senior = select_top_fds(age=65, risk_profile=\"low\", df=df_fd)\n",
    "# print(\"Top FDs for Senior (Age >= 60) with Low Risk Profile:\")\n",
    "# print(top_fds_senior[[\"Name\", \"Senior Citizen Rate\"]])\n",
    "\n",
    "# # Select top FDs for a user aged 30 with high-risk profile\n",
    "# top_fds_regular = select_top_fds(age=30, risk_profile=\"high\", df=df_fd)\n",
    "# print(\"\\nTop FD for Regular (Age < 60) with High Risk Profile:\")\n",
    "# print(top_fds_regular[[\"Name\", \"Normal Rate\"]])\n"
   ]
  },
  {
   "cell_type": "markdown",
   "metadata": {},
   "source": [
    "For Gold ETFs "
   ]
  },
  {
   "cell_type": "code",
   "execution_count": 4,
   "metadata": {},
   "outputs": [],
   "source": [
    "data = pd.read_csv(\"GoldETFs.csv\")\n"
   ]
  },
  {
   "cell_type": "code",
   "execution_count": 6,
   "metadata": {},
   "outputs": [
    {
     "name": "stdout",
     "output_type": "stream",
     "text": [
      "Index(['SYMBOL', 'UNDERLYING ASSET', 'OPEN', 'HIGH', 'LOW', 'PREV. CLOSE',\n",
      "       'LTP', 'INDICATIVE CLOSE', 'CHNG', '%CHNG', 'VOLUME',\n",
      "       'VALUE \\n (₹ Crores)', 'NAV', '52W H', '52W L', '30D  %CHNG', '365 D',\n",
      "       '365 D % CHNG', '30 D'],\n",
      "      dtype='object')\n"
     ]
    }
   ],
   "source": [
    "# Strip leading/trailing spaces from column names\n",
    "data.columns = data.columns.str.strip()\n",
    "\n",
    "# Check if the column exists now\n",
    "print(data.columns)\n"
   ]
  },
  {
   "cell_type": "code",
   "execution_count": 10,
   "metadata": {},
   "outputs": [],
   "source": [
    "\n",
    "# Function to select top Gold ETFs based on risk profile and age\n",
    "def select_top_gold_etf(age, risk_profile, df):\n",
    "    # Determine which rate to use based on age\n",
    "    if age >= 60:\n",
    "        rate_column = \"NAV\"  # For senior citizens, let's assume NAV is the focus\n",
    "    else:\n",
    "        rate_column = \"CHNG\"  # For normal users, use %CHNG (percentage change)\n",
    "\n",
    "    # Sort the data by the selected rate column in descending order\n",
    "    sorted_gold_etfs = df.sort_values(by=rate_column, ascending=False)\n",
    "    \n",
    "    # Select based on risk profile\n",
    "    if risk_profile == \"low\":\n",
    "        top_gold_etfs = sorted_gold_etfs.head(3)  # Low risk: top 3 ETFs\n",
    "    elif risk_profile == \"moderate\":\n",
    "        top_gold_etfs = sorted_gold_etfs.head(2)  # Moderate risk: top 2 ETFs\n",
    "    elif risk_profile == \"high\":\n",
    "        top_gold_etfs = sorted_gold_etfs.head(1)  # High risk: top 1 ETF\n",
    "\n",
    "    return top_gold_etfs\n"
   ]
  },
  {
   "cell_type": "code",
   "execution_count": 11,
   "metadata": {},
   "outputs": [],
   "source": [
    "# # Example Usage\n",
    "# # Select top Gold ETFs for a user aged 65 with low-risk profile\n",
    "# top_gold_etf_senior = select_top_gold_etf(age=65, risk_profile=\"low\", df=data)\n",
    "# print(\"Top Gold ETFs for Senior (Age >= 60) with Low Risk Profile:\")\n",
    "# print(top_gold_etf_senior[[\"SYMBOL\", \"NAV\"]])\n",
    "\n",
    "# # Select top Gold ETFs for a user aged 30 with high-risk profile\n",
    "# top_gold_etf_regular = select_top_gold_etf(age=30, risk_profile=\"high\", df=data)\n",
    "# print(\"\\nTop Gold ETF for Regular (Age < 60) with High Risk Profile:\")\n",
    "# print(top_gold_etf_regular[[\"SYMBOL\", \"%CHNG\"]])"
   ]
  }
 ],
 "metadata": {
  "kernelspec": {
   "display_name": "base",
   "language": "python",
   "name": "python3"
  },
  "language_info": {
   "codemirror_mode": {
    "name": "ipython",
    "version": 3
   },
   "file_extension": ".py",
   "mimetype": "text/x-python",
   "name": "python",
   "nbconvert_exporter": "python",
   "pygments_lexer": "ipython3",
   "version": "3.11.7"
  }
 },
 "nbformat": 4,
 "nbformat_minor": 2
}
